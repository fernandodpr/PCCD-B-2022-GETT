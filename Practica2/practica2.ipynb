{
 "cells": [
  {
   "cell_type": "markdown",
   "metadata": {},
   "source": [
    "# Práctica 2"
   ]
  },
  {
   "cell_type": "markdown",
   "metadata": {},
   "source": [
    "## Ejercicio 1"
   ]
  },
  {
   "cell_type": "markdown",
   "metadata": {},
   "source": [
    "Consulte el man de fork().\n",
    "Escriba un proceso p1 que cree tres procesos hijo y espere en un bucle a recibir una señal utilizando la \n",
    "función pause(). Incluya un sleep en los procesos hijo para que finalicen unos segundos después de \n",
    "ser creados. El proceso padre deberá imprimir un mensaje en pantalla cada vez que finalice un proceso \n",
    "hijo, y finalizar cuando lo hayan hecho todos sus hijos."
   ]
  },
  {
   "cell_type": "markdown",
   "metadata": {},
   "source": [
    "### Fork(): "
   ]
  },
  {
   "cell_type": "markdown",
   "metadata": {},
   "source": [
    " *creates a new process by duplicating the calling process. The new process is referred to as the child process.  The calling process is referred to as the parent process. The child process and the parent process run in separate memory spaces.  At the time of fork() both memory spaces have the same content.  Memory writes, file mappings (mmap(2)), and unmappings (munmap(2)) performed by one of the processes do not affect the other.*\n",
    "\n",
    "[ Verl el man](https://man7.org/linux/man-pages/man2/fork.2.html)\n",
    "\n",
    "**Notas importantes:**\n",
    "- The child does not inherit timers from its parent.\n",
    "- On success, the PID of the child process is returned in the parent, and 0 is returned in the child.  On failure, -1 is returned in the parent, no child process is created, and errno is set to indicate the error."
   ]
  },
  {
   "cell_type": "code",
   "execution_count": null,
   "metadata": {},
   "outputs": [],
   "source": [
    "//Ejemplo de fork()\n",
    "#include <stdio.h>\n",
    "#include <sys/types.h>\n",
    "#include <unistd.h>\n",
    "\n",
    "int main() {\n",
    "  pid_t pid;\n",
    "  pid = fork();\n",
    "  if (pid == 0) {\n",
    "    printf(\"Soy el hijo, mi ID es %d y mi padre es %d\\n\", getpid(), getppid());\n",
    "  } else if (pid > 0) {\n",
    "    printf(\"Soy el padre, mi ID es %d y el ID de mi hijo es %d\\n\", getpid(), pid);\n",
    "  } else {\n",
    "    printf(\"Error al crear el proceso hijo\\n\");\n",
    "  }\n",
    "  return 0;\n",
    "}"
   ]
  },
  {
   "cell_type": "markdown",
   "metadata": {},
   "source": [
    "**SIGCHLD 17** es una señal enviada a un proceso padre cuando uno de sus procesos hijos termina o se detiene. La señal es generada por el sistema operativo y se utiliza para informar al proceso padre de que debe limpiar los recursos asociados con el proceso hijo terminado. Esto puede incluir la liberación de la memoria, el cierre de descriptores de archivos abiertos y otras tareas relacionadas. El proceso padre normalmente recibe esta señal a través de la llamada al sistema wait o waitpid, que bloquea al proceso padre hasta que un proceso hijo termine. El proceso padre luego puede recuperar el estado de salida del proceso hijo terminado y tomar cualquier acción necesaria."
   ]
  },
  {
   "cell_type": "code",
   "execution_count": 23,
   "metadata": {},
   "outputs": [
    {
     "name": "stdout",
     "output_type": "stream",
     "text": [
      "Soy el proceso hijo con PID 131379\n",
      "Soy el proceso padre con PID 131376\n",
      "El proceso hijo con PID 131379 ha terminado\n",
      "El estado de salida del proceso hijo es 0\n"
     ]
    }
   ],
   "source": [
    "#include <stdio.h>\n",
    "#include <unistd.h>\n",
    "#include <sys/wait.h>\n",
    "\n",
    "int main(void) {\n",
    "  pid_t pid;\n",
    "\n",
    "  pid = fork();\n",
    "  if (pid == 0) {\n",
    "    printf(\"Soy el proceso hijo con PID %d\\n\", getpid());\n",
    "    return 0;\n",
    "  } else {\n",
    "    int status;\n",
    "    pid_t child_pid;\n",
    "\n",
    "    child_pid = wait(&status);\n",
    "    printf(\"Soy el proceso padre con PID %d\\n\", getpid());\n",
    "    printf(\"El proceso hijo con PID %d ha terminado\\n\", child_pid);\n",
    "    printf(\"El estado de salida del proceso hijo es %d\\n\", WEXITSTATUS(status));\n",
    "  }\n",
    "  \n",
    "  return 0;\n",
    "}"
   ]
  },
  {
   "cell_type": "markdown",
   "metadata": {},
   "source": [
    "En este ejemplo, el proceso padre crea un proceso hijo mediante la llamada a fork(). El hijo imprime su PID y termina. El padre, a su vez, espera hasta que el hijo termine con la llamada a wait(), que recibe el estado de salida del hijo y su PID. Finalmente, el padre imprime información sobre el hijo y su estado de salida."
   ]
  },
  {
   "cell_type": "markdown",
   "metadata": {},
   "source": [
    "## Ejercicio 2\n"
   ]
  }
 ],
 "metadata": {
  "kernelspec": {
   "display_name": "C",
   "language": "c",
   "name": "c"
  },
  "language_info": {
   "file_extension": ".c",
   "mimetype": "text/plain",
   "name": "c"
  },
  "orig_nbformat": 4
 },
 "nbformat": 4,
 "nbformat_minor": 2
}
