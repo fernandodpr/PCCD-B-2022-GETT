{
 "cells": [
  {
   "cell_type": "markdown",
   "metadata": {},
   "source": [
    "La función shmget() puede generar algunas dudas frecuentes al trabajar con ella, aquí mencionamos algunas:\n",
    "\n",
    "**¿Qué es la clave del segmento de memoria compartida y cómo se elige?**\n",
    "\n",
    "La clave es un número entero que identifica de manera única el segmento de memoria compartida en el sistema. La elección de la clave es importante para evitar conflictos con otros procesos que puedan estar utilizando el mismo número. Se recomienda utilizar una clave única que sea fácil de recordar para su identificación.\n",
    "\n",
    "**¿Qué es el tamaño del segmento de memoria compartida y cómo se define?**\n",
    "\n",
    "El tamaño del segmento de memoria compartida es la cantidad de bytes que se reservan en la memoria para ser compartidos entre procesos. Se define utilizando la función sizeof() y debe ser el mismo para todos los procesos que compartan la memoria.\n",
    "\n",
    "**¿Qué significan las banderas IPC_CREAT e IPC_EXCL?**\n",
    "\n",
    "IPC_CREAT se utiliza para crear un nuevo segmento de memoria compartida si aún no existe. Si ya existe, la función devuelve un identificador de segmento existente. IPC_EXCL se utiliza en conjunto con IPC_CREAT para evitar que se cree un nuevo segmento de memoria compartida si ya existe uno con la misma clave. Si se utiliza IPC_EXCL y ya existe un segmento con esa clave, la función devuelve un error.\n",
    "\n",
    "**¿Cómo se adjunta el segmento de memoria compartida a la memoria de un proceso?**\n",
    "\n",
    "La función shmat() se utiliza para adjuntar el segmento de memoria compartida a la memoria de un proceso. Recibe como parámetros el identificador del segmento de memoria compartida y un puntero a una dirección de memoria donde se quiere que se adjunte el segmento. Si se establece a NULL, el sistema elige una dirección de memoria disponible.\n",
    "\n",
    "**¿Cómo se desvincula el segmento de memoria compartida de la memoria de un proceso?**\n",
    "\n",
    "La función shmdt() se utiliza para desvincular el segmento de memoria compartida de la memoria de un proceso. Recibe como parámetro el puntero a la dirección de memoria donde está adjunto el segmento.\n",
    "\n",
    "**¿Cómo se elimina el segmento de memoria compartida después de que se ha terminado de utilizar?**\n",
    "\n",
    "La función shmctl() se utiliza para controlar el comportamiento del segmento de memoria compartida, incluyendo la eliminación del mismo. Se llama con la bandera IPC_RMID y el identificador del segmento de memoria compartida. Sin embargo, es importante tener en cuenta que si hay otros procesos que siguen utilizando el segmento de memoria compartida, no se eliminará hasta que todos los procesos hayan terminado de utilizarlo.\n",
    "\n",
    "\n",
    "\n"
   ]
  },
  {
   "cell_type": "markdown",
   "metadata": {},
   "source": [
    "**¿Qué es la exclusión mutua? ¿Por qué es importante garantizarla en ciertas situaciones?**\n",
    "La exclusión mutua es un mecanismo de sincronización que se utiliza en programación concurrente para garantizar que solo un proceso o hilo acceda a un recurso compartido en un momento dado. Esto es importante en situaciones donde varios procesos pueden intentar acceder al mismo recurso al mismo tiempo, lo que podría llevar a errores o comportamientos impredecibles. La exclusión mutua se puede lograr mediante diferentes técnicas, como el uso de semáforos, monitores o locks.\n",
    "\n",
    "**¿Qué es la memoria compartida? ¿Cómo se utiliza en sistemas operativos?**\n",
    "La memoria compartida es un mecanismo de IPC (Inter Process Communication) que permite que varios procesos accedan a la misma área de memoria. Esto permite que los procesos compartan datos de manera eficiente y se comuniquen entre sí sin tener que recurrir a mecanismos más costosos como sockets o pipes. En sistemas operativos, la memoria compartida se implementa a través de segmentos de memoria que pueden ser asignados y compartidos entre procesos.\n",
    "\n",
    "**¿Qué es un semáforo? ¿Cómo se utiliza en programación concurrente?**\n",
    "Un semáforo es una estructura de datos que se utiliza en programación concurrente para coordinar el acceso a recursos compartidos entre diferentes procesos o hilos. En esencia, un semáforo es un contador protegido por una exclusión mutua que puede ser modificado mediante operaciones atómicas. Los semáforos se pueden utilizar para controlar el acceso a secciones críticas, sincronizar la ejecución de procesos o hilos, y evitar problemas de concurrencia como el interbloqueo o la inanición. En general, los semáforos se utilizan en conjunto con otros mecanismos de sincronización como locks o monitores para lograr una sincronización más compleja y efectiva."
   ]
  },
  {
   "cell_type": "markdown",
   "metadata": {},
   "source": [
    "Las funciones shmget(), shmat() y shmdt() son funciones de la biblioteca de C utilizadas para manejar segmentos de memoria compartida en sistemas operativos basados en Unix.\n",
    "\n",
    "**shmget()**\n",
    "\n",
    "La función shmget() se utiliza para crear o acceder a un segmento de memoria compartida.\n",
    "\n",
    "key: clave única utilizada para identificar el segmento de memoria compartida.\n",
    "size: tamaño del segmento de memoria compartida.\n",
    "shmflg: banderas de control, que pueden ser ORed juntas.\n",
    "Retorna: el identificador del segmento de memoria compartida recién creado o accedido, o -1 en caso de error.\n"
   ]
  },
  {
   "cell_type": "code",
   "execution_count": null,
   "metadata": {
    "vscode": {
     "languageId": "python"
    }
   },
   "outputs": [],
   "source": [
    "#include <sys/ipc.h>\n",
    "#include <sys/shm.h>\n",
    "\n",
    "int shmget(key_t key, size_t size, int shmflg);"
   ]
  },
  {
   "cell_type": "markdown",
   "metadata": {},
   "source": [
    "**shmat()**\n",
    "\n",
    "La función shmat() se utiliza para adjuntar un segmento de memoria compartida al espacio de direcciones de un proceso.\n",
    "\n",
    "shmid: identificador del segmento de memoria compartida.\n",
    "shmaddr: dirección de memoria deseada para adjuntar el segmento, o NULL si se desea que el sistema operativo elija una dirección adecuada.\n",
    "shmflg: banderas de control, que pueden ser ORed juntas.\n",
    "Retorna: la dirección de inicio del segmento de memoria compartida adjunto, o (void *) -1 en caso de error."
   ]
  },
  {
   "cell_type": "code",
   "execution_count": null,
   "metadata": {
    "vscode": {
     "languageId": "python"
    }
   },
   "outputs": [],
   "source": [
    "#include <sys/types.h>\n",
    "#include <sys/shm.h>\n",
    "\n",
    "void *shmat(int shmid, const void *shmaddr, int shmflg);"
   ]
  },
  {
   "cell_type": "markdown",
   "metadata": {},
   "source": [
    "**shmdt()**\n",
    "\n",
    "La función shmdt() se utiliza para separar un segmento de memoria compartida del espacio de direcciones de un proceso.\n",
    "\n",
    "shmaddr: dirección de inicio del segmento de memoria compartida adjunto.\n",
    "Retorna: 0 si la operación fue exitosa, o -1 en caso de error.\n",
    "Es importante tener en cuenta que una vez que un proceso ha adjuntado un segmento de memoria compartida a su espacio de direcciones, puede acceder y modificar los datos almacenados en él. También es importante asegurarse de que los procesos que comparten el segmento de memoria compartida acuerden una convención de nombres y usos para los datos almacenados allí, para evitar conflictos y problemas de sincronización.\n"
   ]
  },
  {
   "cell_type": "code",
   "execution_count": null,
   "metadata": {
    "vscode": {
     "languageId": "python"
    }
   },
   "outputs": [],
   "source": [
    "#include <sys/types.h>\n",
    "#include <sys/shm.h>\n",
    "\n",
    "int shmdt(const void *shmaddr);\n"
   ]
  },
  {
   "cell_type": "markdown",
   "metadata": {},
   "source": [
    "**Que pasa si una vez que desvinculo la memoria o la libero un programa que depende de ella intenta acceder?**\n",
    "\n",
    "Si un programa intenta acceder a un segmento de memoria compartida que ha sido desvinculado o liberado previamente, se producirá un error de segmentación. Esto se debe a que el sistema operativo marca el segmento de memoria compartida como no válido una vez que se ha liberado o desvinculado, lo que significa que cualquier intento de acceder a esa memoria provocará una violación de acceso.\n",
    "\n",
    "Es importante tener en cuenta que el comportamiento exacto en caso de intentar acceder a un segmento de memoria compartida desvinculado o liberado puede variar dependiendo del sistema operativo y de la configuración del sistema. En algunos casos, el programa puede simplemente fallar sin ninguna advertencia o mensaje de error, mientras que en otros casos puede producirse un error de tiempo de ejecución o una excepción. En general, es importante evitar intentar acceder a la memoria compartida una vez que se ha desvinculado o liberado para evitar este tipo de problemas."
   ]
  },
  {
   "cell_type": "markdown",
   "metadata": {},
   "source": [
    "**Produce un seg fault y para el prorama?**\n",
    "\n",
    "Sí, si un programa intenta acceder a un segmento de memoria compartida que ha sido desvinculado o liberado previamente, es muy probable que se produzca un error de segmentación (segfault en inglés) y que el programa se detenga abruptamente.\n",
    "\n",
    "La razón por la cual se produce el segfault es que el sistema operativo marca el segmento de memoria compartida como no válido una vez que se ha desvinculado o liberado, lo que significa que cualquier intento de acceder a esa memoria provocará una violación de acceso. La violación de acceso hace que el programa se detenga inmediatamente para evitar cualquier daño adicional al sistema.\n",
    "\n",
    "En resumen, si un programa intenta acceder a un segmento de memoria compartida que ha sido desvinculado o liberado, es muy probable que se produzca un error de segmentación y que el programa se detenga. Por lo tanto, es importante evitar intentar acceder a la memoria compartida una vez que se ha desvinculado o liberado para evitar este tipo de problemas."
   ]
  },
  {
   "cell_type": "markdown",
   "metadata": {},
   "source": [
    "**shmctl()**\n",
    "\n",
    "La función shmctl() es una función de la biblioteca de C utilizada para realizar varias operaciones de control en segmentos de memoria compartida. A continuación se presenta un minimanual que cubre las operaciones básicas que se pueden realizar con shmctl():\n",
    "\n",
    "shmid: identificador del segmento de memoria compartida.\n",
    "cmd: comando que especifica la operación que se desea realizar.\n",
    "buf: estructura shmid_ds que se utiliza para recibir o enviar información sobre el segmento de memoria compartida.\n",
    "Comandos de shmctl()\n",
    "IPC_STAT: obtiene información sobre el segmento de memoria compartida y la almacena en la estructura shmid_ds apuntada por buf.\n",
    "IPC_SET: actualiza los campos de la estructura shmid_ds del segmento de memoria compartida con los valores especificados en la estructura apuntada por buf.\n",
    "IPC_RMID: elimina el segmento de memoria compartida especificado por shmid.\n",
    "\n",
    "Ejemplos de uso\n",
    "Obtener información sobre un segmento de memoria compartida:\n",
    "Es importante tener en cuenta que la eliminación de un segmento de memoria compartida debe realizarse con precaución, ya que puede provocar la pérdida de datos almacenados en ese segmento. Por lo tanto, es recomendable utilizar esta operación sólo cuando se esté seguro de que el segmento de memoria compartida ya no es necesario."
   ]
  },
  {
   "cell_type": "code",
   "execution_count": 2,
   "metadata": {
    "vscode": {
     "languageId": "python"
    }
   },
   "outputs": [
    {
     "name": "stderr",
     "output_type": "stream",
     "text": [
      "/tmp/tmpylkhj5_x.c: In function ‘main’:\n",
      "/tmp/tmpylkhj5_x.c:12:33: error: ‘NULL’ undeclared (first use in this function)\n",
      "   12 |     if (shmctl(shmid, IPC_RMID, NULL) == -1) {\n",
      "      |                                 ^~~~\n",
      "/tmp/tmpylkhj5_x.c:3:1: note: ‘NULL’ is defined in header ‘<stddef.h>’; did you forget to ‘#include <stddef.h>’?\n",
      "    2 | #include <sys/shm.h>\n",
      "  +++ |+#include <stddef.h>\n",
      "    3 | \n",
      "/tmp/tmpylkhj5_x.c:12:33: note: each undeclared identifier is reported only once for each function it appears in\n",
      "   12 |     if (shmctl(shmid, IPC_RMID, NULL) == -1) {\n",
      "      |                                 ^~~~\n",
      "/tmp/tmpylkhj5_x.c:13:9: warning: implicit declaration of function ‘perror’ [-Wimplicit-function-declaration]\n",
      "   13 |         perror(\"shmctl\");\n",
      "      |         ^~~~~~\n",
      "[C kernel] GCC exited with code 1, the executable will not be executed"
     ]
    }
   ],
   "source": [
    "#include <sys/ipc.h>\n",
    "#include <sys/shm.h>\n",
    "\n",
    "int main()\n",
    "{\n",
    "    int shmid;\n",
    "\n",
    "    // Obtener el identificador del segmento de memoria compartida\n",
    "    shmid = shmget(1234, 1024, 0666 | IPC_CREAT);\n",
    "\n",
    "    // Eliminar el segmento de memoria compartida\n",
    "    if (shmctl(shmid, IPC_RMID, NULL) == -1) {\n",
    "        perror(\"shmctl\");\n",
    "        return -1;\n",
    "    }\n",
    "\n",
    "    return 0;\n",
    "}"
   ]
  },
  {
   "cell_type": "code",
   "execution_count": null,
   "metadata": {
    "vscode": {
     "languageId": "python"
    }
   },
   "outputs": [],
   "source": [
    "#include <sys/ipc.h>\n",
    "#include <sys/shm.h>\n",
    "\n",
    "int shmctl(int shmid, int cmd, struct shmid_ds *buf);"
   ]
  },
  {
   "cell_type": "markdown",
   "metadata": {},
   "source": [
    "**ipcrm**\n",
    "\n",
    "\n",
    "IPCRM es una herramienta en Unix/Linux que se utiliza para eliminar recursos de IPC (Inter-Process Communication) que ya no se están utilizando. Aquí hay algunos comandos básicos que se pueden utilizar en IPCRM:\n",
    "\n",
    "Listar recursos IPC:\n",
    "Para listar los recursos IPC existentes en el sistema, se puede utilizar el siguiente comando:\n",
    "\n",
    "\n",
    "ipcs\n",
    "Eliminar un recurso IPC específico:\n",
    "Para eliminar un recurso IPC específico, se puede utilizar el siguiente comando:\n"
   ]
  },
  {
   "cell_type": "code",
   "execution_count": null,
   "metadata": {
    "vscode": {
     "languageId": "python"
    }
   },
   "outputs": [],
   "source": [
    "ipcrm -<tipo de recurso> <identificador del recurso>"
   ]
  },
  {
   "cell_type": "markdown",
   "metadata": {},
   "source": [
    "\n",
    "Por ejemplo, para eliminar un semáforo con identificador 1234, se puede utilizar el siguiente comando:\n",
    "\n"
   ]
  },
  {
   "cell_type": "code",
   "execution_count": null,
   "metadata": {
    "vscode": {
     "languageId": "python"
    }
   },
   "outputs": [],
   "source": [
    "ipcrm -s 1234"
   ]
  },
  {
   "cell_type": "markdown",
   "metadata": {},
   "source": [
    "Eliminar todos los recursos IPC:\n",
    "Para eliminar todos los recursos IPC, se puede utilizar el siguiente comando:"
   ]
  },
  {
   "cell_type": "code",
   "execution_count": null,
   "metadata": {
    "vscode": {
     "languageId": "python"
    }
   },
   "outputs": [],
   "source": [
    "ipcrm -a"
   ]
  },
  {
   "cell_type": "markdown",
   "metadata": {},
   "source": [
    "Obtener ayuda:\n",
    "Para obtener información detallada sobre cómo utilizar IPCRM, se puede utilizar el siguiente comando:"
   ]
  },
  {
   "cell_type": "code",
   "execution_count": null,
   "metadata": {
    "vscode": {
     "languageId": "python"
    }
   },
   "outputs": [],
   "source": [
    "man ipcrm"
   ]
  }
 ],
 "metadata": {
  "kernelspec": {
   "display_name": "Python 3 (ipykernel)",
   "language": "python",
   "name": "python3"
  },
  "orig_nbformat": 4
 },
 "nbformat": 4,
 "nbformat_minor": 2
}
