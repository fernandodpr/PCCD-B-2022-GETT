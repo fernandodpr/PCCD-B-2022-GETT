{
 "cells": [
  {
   "cell_type": "markdown",
   "metadata": {},
   "source": [
    "## pthread_create()\n",
    "\n",
    "La función pthread_create() crea un nuevo hilo en el proceso que llama. La función requiere cuatro argumentos:\n",
    "\n",
    "Un puntero a una variable de tipo pthread_t, que será utilizada para identificar el hilo.\n",
    "Un puntero a una estructura de tipo pthread_attr_t, que contiene información sobre los atributos del hilo que se va a crear. Si se pasa NULL, se utilizan los valores por defecto.\n",
    "Un puntero a la función que se ejecutará en el hilo.\n",
    "Un puntero a un argumento que se pasará a la función del hilo."
   ]
  },
  {
   "cell_type": "code",
   "execution_count": null,
   "metadata": {
    "vscode": {
     "languageId": "python"
    }
   },
   "outputs": [],
   "source": [
    "#include <stdio.h>\n",
    "#include <pthread.h>\n",
    "#include <unistd.h> // para sleep\n",
    "\n",
    "void *teclado(void *arg) {\n",
    "    int c;\n",
    "    while ((c = getchar()) != 'q') {}\n",
    "    return NULL;\n",
    "}\n",
    "\n",
    "int main() {\n",
    "    pthread_t thread;\n",
    "    pthread_create(&thread, NULL, teclado, NULL);\n",
    "    int num_caracteres = 0;\n",
    "    while (1) {\n",
    "        printf(\"Numero de caracteres leidos del teclado: %d\\n\", num_caracteres);\n",
    "        fflush(stdout);\n",
    "        num_caracteres++;\n",
    "        sleep(1);\n",
    "    }\n",
    "    return 0;\n",
    "}\n"
   ]
  },
  {
   "cell_type": "markdown",
   "metadata": {},
   "source": [
    "En este programa se define una función imprimir() que imprime un mensaje en la pantalla. Se utiliza un puntero a un entero como argumento para especificar la posición del mensaje que se va a imprimir.\n",
    "\n",
    "En la función main(), se define un array de hilos de tamaño 5. Se crea un hilo para cada elemento del array de hilos utilizando un bucle for. Para cada hilo, se reserva memoria para un entero utilizando la función malloc(). El valor del entero se asigna a la posición del mensaje que se va a imprimir y se crea el hilo utilizando pthread_create(). La función imprimir() se utiliza como función que se va a ejecutar en el hilo y el puntero al entero se utiliza como argumento.\n",
    "\n",
    "Finalmente, se espera a que todos los hilos terminen utilizando pthread_join() y el programa termina con éxito."
   ]
  },
  {
   "cell_type": "markdown",
   "metadata": {},
   "source": []
  }
 ],
 "metadata": {
  "kernelspec": {
   "display_name": "Python 3 (ipykernel)",
   "language": "python",
   "name": "python3"
  },
  "orig_nbformat": 4
 },
 "nbformat": 4,
 "nbformat_minor": 2
}
